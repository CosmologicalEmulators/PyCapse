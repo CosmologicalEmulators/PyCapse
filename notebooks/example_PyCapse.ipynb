{
 "cells": [
  {
   "cell_type": "markdown",
   "id": "f2b0a6b0-a690-4754-86a3-0503a4e09958",
   "metadata": {},
   "source": [
    "# Example: how to use PyCapse"
   ]
  },
  {
   "cell_type": "code",
   "execution_count": null,
   "id": "d7fcd340-73ef-4bc4-99d7-14934e955aea",
   "metadata": {},
   "outputs": [],
   "source": [
    "import numpy as np\n",
    "import sys\n",
    "sys.path.append('/home/mbonici/Desktop/PyCapse/') # write the path were you put PyCapse\n",
    "from pycapse import pycapse\n",
    "import matplotlib.pyplot as plt"
   ]
  },
  {
   "cell_type": "markdown",
   "id": "5f11e69a-d49e-43ce-9ec0-0a6cb1d7005a",
   "metadata": {},
   "source": [
    "Let's write a simple input data vector.\n",
    "The input array contains:\n",
    "- ln10A_s\n",
    "- n_s\n",
    "- h\n",
    "- omega_b\n",
    "- omega_cdm\n",
    "- tau_reio\n",
    "- N_idr\n",
    "- Gamma_0_nadm * 1e7"
   ]
  },
  {
   "cell_type": "code",
   "execution_count": null,
   "id": "0a75c0cc-bb2f-402f-8a37-d1ad6a6a7923",
   "metadata": {},
   "outputs": [],
   "source": [
    "input_test = np.array([2.8472231, 1.0196047, 0.72768, 0.0206263, 0.1492, 0.068604, 0.289396, 0.685177])"
   ]
  },
  {
   "cell_type": "code",
   "execution_count": null,
   "id": "c9a3b916-a79b-47bd-9434-273c0a79082d",
   "metadata": {},
   "outputs": [],
   "source": [
    "Cltt, Clee, Clte  = pycapse.load_emu('/home/mbonici/Desktop/Capse_trainer/notebooks/emulators.bson')"
   ]
  },
  {
   "cell_type": "markdown",
   "id": "4f1bcd99-2a49-4e9c-b5a1-00d656c34970",
   "metadata": {},
   "source": [
    "When running following block the first time, it will require a bit to compile (~ 1 minute)."
   ]
  },
  {
   "cell_type": "code",
   "execution_count": null,
   "id": "76a5b3cb-9ce2-4a9d-b3ad-10b27634da04",
   "metadata": {},
   "outputs": [],
   "source": [
    "ℓ = np.arange(2,2501)\n",
    "CℓTT = pycapse.compute_Cl(input_test, Cltt)\n",
    "CℓEE = pycapse.compute_Cl(input_test, Clee)\n",
    "CℓTE = pycapse.compute_Cl(input_test, Clte);"
   ]
  },
  {
   "cell_type": "markdown",
   "id": "e7118619-521d-4bf9-83c4-7499f6bf816f",
   "metadata": {},
   "source": [
    "However, once this has been done, the emulators become blazingly fast."
   ]
  },
  {
   "cell_type": "code",
   "execution_count": null,
   "id": "237ba1e7-086e-4da5-8c28-50fe8a4d6012",
   "metadata": {},
   "outputs": [],
   "source": [
    "%timeit pycapse.compute_Cl(input_test, Cltt)"
   ]
  },
  {
   "cell_type": "code",
   "execution_count": null,
   "id": "25622290-bd48-455c-a8f1-a843641a9ff8",
   "metadata": {},
   "outputs": [],
   "source": [
    "plt.plot(ℓ, ℓ*(ℓ+1)*CℓTT)"
   ]
  },
  {
   "cell_type": "code",
   "execution_count": null,
   "id": "1e09aa2a-5f81-4afd-82f6-67d825be39ae",
   "metadata": {},
   "outputs": [],
   "source": [
    "plt.plot(ℓ, ℓ*(ℓ+1)*CℓEE)"
   ]
  },
  {
   "cell_type": "code",
   "execution_count": null,
   "id": "3e2eeda5-7916-4f63-9340-208b0b446a16",
   "metadata": {},
   "outputs": [],
   "source": [
    "plt.plot(ℓ, ℓ*(ℓ+1)*CℓTE)"
   ]
  },
  {
   "cell_type": "markdown",
   "id": "097dab2f-eadb-410e-863b-f0fee7f4ab25",
   "metadata": {},
   "source": [
    "Fast and easy, isn't it?"
   ]
  }
 ],
 "metadata": {
  "kernelspec": {
   "display_name": "Python 3 (ipykernel)",
   "language": "python",
   "name": "python3"
  },
  "language_info": {
   "codemirror_mode": {
    "name": "ipython",
    "version": 3
   },
   "file_extension": ".py",
   "mimetype": "text/x-python",
   "name": "python",
   "nbconvert_exporter": "python",
   "pygments_lexer": "ipython3",
   "version": "3.10.4"
  }
 },
 "nbformat": 4,
 "nbformat_minor": 5
}
