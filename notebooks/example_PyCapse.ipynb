{
 "cells": [
  {
   "cell_type": "markdown",
   "id": "f2b0a6b0-a690-4754-86a3-0503a4e09958",
   "metadata": {},
   "source": [
    "# Example: how to use PyCapse"
   ]
  },
  {
   "cell_type": "code",
   "execution_count": null,
   "id": "d7fcd340-73ef-4bc4-99d7-14934e955aea",
   "metadata": {},
   "outputs": [],
   "source": [
    "import numpy as np\n",
    "import sys\n",
    "sys.path.append('/home/mbonici/Desktop/PyCapse/src') # write the path were you put PyCapse\n",
    "import PyCapse\n",
    "import matplotlib.pyplot as plt"
   ]
  },
  {
   "cell_type": "markdown",
   "id": "5f11e69a-d49e-43ce-9ec0-0a6cb1d7005a",
   "metadata": {},
   "source": [
    "Let's write a simple input data vector.\n",
    "The input array contains:\n",
    "- ln10A_s\n",
    "- n_s\n",
    "- h\n",
    "- omega_b\n",
    "- omega_cdm\n",
    "- tau_reio\n",
    "- xi_idx\n",
    "- $\\log_{10}$ a_idm_dr"
   ]
  },
  {
   "cell_type": "code",
   "execution_count": null,
   "id": "0a75c0cc-bb2f-402f-8a37-d1ad6a6a7923",
   "metadata": {},
   "outputs": [],
   "source": [
    "input_test = np.array([2.8472231, 1.0196047, 0.72768, 0.0206263, 0.1492, 0.068604, 0.289396, 4.])"
   ]
  },
  {
   "cell_type": "code",
   "execution_count": null,
   "id": "c9a3b916-a79b-47bd-9434-273c0a79082d",
   "metadata": {},
   "outputs": [],
   "source": [
    "Cltt, Clee, Clte, Clpp  = PyCapse.load_emu('/home/mbonici/Desktop/Capse_trainer/notebooks/trained_weights/idm_dr/n_4/emulators_Planck_idm_dr_n4_nonlinear_halofit.bson')"
   ]
  },
  {
   "cell_type": "markdown",
   "id": "c3cdd688-5619-4a95-84a0-0fbbfd247b1f",
   "metadata": {},
   "source": [
    "If you want to check the emulators training range, you just have to check the `InMinMax` field"
   ]
  },
  {
   "cell_type": "code",
   "execution_count": null,
   "id": "84de20d8-5322-488c-9386-780bfbc29366",
   "metadata": {},
   "outputs": [],
   "source": [
    "Cltt.InMinMax"
   ]
  },
  {
   "cell_type": "markdown",
   "id": "4f1bcd99-2a49-4e9c-b5a1-00d656c34970",
   "metadata": {},
   "source": [
    "When running following block the first time, it will require a bit to compile (~ 1 minute)."
   ]
  },
  {
   "cell_type": "code",
   "execution_count": null,
   "id": "76a5b3cb-9ce2-4a9d-b3ad-10b27634da04",
   "metadata": {},
   "outputs": [],
   "source": [
    "ℓTT_PP = np.arange(2,2509)\n",
    "ℓEE_TE = np.arange(2,1997)\n",
    "CℓTT = PyCapse.compute_Cl(input_test, Cltt)\n",
    "CℓEE = PyCapse.compute_Cl(input_test, Clee)\n",
    "CℓTE = PyCapse.compute_Cl(input_test, Clte)\n",
    "CℓPP = PyCapse.compute_Cl(input_test, Clpp);"
   ]
  },
  {
   "cell_type": "markdown",
   "id": "e7118619-521d-4bf9-83c4-7499f6bf816f",
   "metadata": {},
   "source": [
    "However, once this has been done, the emulators become blazingly fast.\n",
    "\n",
    "In the next cell, $C_\\ell$ computation command is executed ~ thousands of time, in order to perform statistical benchmarking and give you an accurate estimante of execution time."
   ]
  },
  {
   "cell_type": "code",
   "execution_count": null,
   "id": "237ba1e7-086e-4da5-8c28-50fe8a4d6012",
   "metadata": {},
   "outputs": [],
   "source": [
    "%timeit PyCapse.compute_Cl(input_test, Cltt)"
   ]
  },
  {
   "cell_type": "code",
   "execution_count": null,
   "id": "25622290-bd48-455c-a8f1-a843641a9ff8",
   "metadata": {},
   "outputs": [],
   "source": [
    "plt.plot(ℓTT_PP, ℓTT_PP*(ℓTT_PP+1)*CℓTT)"
   ]
  },
  {
   "cell_type": "code",
   "execution_count": null,
   "id": "1e09aa2a-5f81-4afd-82f6-67d825be39ae",
   "metadata": {},
   "outputs": [],
   "source": [
    "plt.plot(ℓEE_TE, ℓEE_TE*(ℓEE_TE+1)*CℓEE)"
   ]
  },
  {
   "cell_type": "code",
   "execution_count": null,
   "id": "3e2eeda5-7916-4f63-9340-208b0b446a16",
   "metadata": {},
   "outputs": [],
   "source": [
    "plt.plot(ℓEE_TE, ℓEE_TE*(ℓEE_TE+1)*CℓTE)"
   ]
  },
  {
   "cell_type": "code",
   "execution_count": null,
   "id": "7b1ee7ed-ac5c-45e3-b07c-939ba73327b0",
   "metadata": {},
   "outputs": [],
   "source": [
    "plt.plot(ℓTT_PP, (ℓTT_PP*(ℓTT_PP+1))**2*CℓPP)\n",
    "plt.xscale('log')"
   ]
  },
  {
   "cell_type": "markdown",
   "id": "097dab2f-eadb-410e-863b-f0fee7f4ab25",
   "metadata": {},
   "source": [
    "Fast and easy, isn't it?"
   ]
  }
 ],
 "metadata": {
  "kernelspec": {
   "display_name": "Python 3 (ipykernel)",
   "language": "python",
   "name": "python3"
  },
  "language_info": {
   "codemirror_mode": {
    "name": "ipython",
    "version": 3
   },
   "file_extension": ".py",
   "mimetype": "text/x-python",
   "name": "python",
   "nbconvert_exporter": "python",
   "pygments_lexer": "ipython3",
   "version": "3.10.4"
  }
 },
 "nbformat": 4,
 "nbformat_minor": 5
}
